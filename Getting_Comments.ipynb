{
  "cells": [
    {
      "cell_type": "code",
      "execution_count": null,
      "id": "6c1b9a35",
      "metadata": {
        "id": "6c1b9a35",
        "outputId": "ccba038e-8127-4070-84a4-2eac1e7ffae7",
        "colab": {
          "base_uri": "https://localhost:8080/"
        }
      },
      "outputs": [
        {
          "output_type": "stream",
          "name": "stdout",
          "text": [
            "Looking in indexes: https://pypi.org/simple, https://us-python.pkg.dev/colab-wheels/public/simple/\n",
            "Requirement already satisfied: google-api-python-client in /usr/local/lib/python3.8/dist-packages (2.70.0)\n",
            "Requirement already satisfied: google-api-core!=2.0.*,!=2.1.*,!=2.2.*,!=2.3.0,<3.0.0dev,>=1.31.5 in /usr/local/lib/python3.8/dist-packages (from google-api-python-client) (2.11.0)\n",
            "Requirement already satisfied: uritemplate<5,>=3.0.1 in /usr/local/lib/python3.8/dist-packages (from google-api-python-client) (4.1.1)\n",
            "Requirement already satisfied: httplib2<1dev,>=0.15.0 in /usr/local/lib/python3.8/dist-packages (from google-api-python-client) (0.17.4)\n",
            "Requirement already satisfied: google-auth-httplib2>=0.1.0 in /usr/local/lib/python3.8/dist-packages (from google-api-python-client) (0.1.0)\n",
            "Requirement already satisfied: google-auth<3.0.0dev,>=1.19.0 in /usr/local/lib/python3.8/dist-packages (from google-api-python-client) (2.15.0)\n",
            "Requirement already satisfied: googleapis-common-protos<2.0dev,>=1.56.2 in /usr/local/lib/python3.8/dist-packages (from google-api-core!=2.0.*,!=2.1.*,!=2.2.*,!=2.3.0,<3.0.0dev,>=1.31.5->google-api-python-client) (1.57.0)\n",
            "Requirement already satisfied: protobuf!=3.20.0,!=3.20.1,!=4.21.0,!=4.21.1,!=4.21.2,!=4.21.3,!=4.21.4,!=4.21.5,<5.0.0dev,>=3.19.5 in /usr/local/lib/python3.8/dist-packages (from google-api-core!=2.0.*,!=2.1.*,!=2.2.*,!=2.3.0,<3.0.0dev,>=1.31.5->google-api-python-client) (3.19.6)\n",
            "Requirement already satisfied: requests<3.0.0dev,>=2.18.0 in /usr/local/lib/python3.8/dist-packages (from google-api-core!=2.0.*,!=2.1.*,!=2.2.*,!=2.3.0,<3.0.0dev,>=1.31.5->google-api-python-client) (2.25.1)\n",
            "Requirement already satisfied: six>=1.9.0 in /usr/local/lib/python3.8/dist-packages (from google-auth<3.0.0dev,>=1.19.0->google-api-python-client) (1.15.0)\n",
            "Requirement already satisfied: rsa<5,>=3.1.4 in /usr/local/lib/python3.8/dist-packages (from google-auth<3.0.0dev,>=1.19.0->google-api-python-client) (4.9)\n",
            "Requirement already satisfied: cachetools<6.0,>=2.0.0 in /usr/local/lib/python3.8/dist-packages (from google-auth<3.0.0dev,>=1.19.0->google-api-python-client) (5.2.0)\n",
            "Requirement already satisfied: pyasn1-modules>=0.2.1 in /usr/local/lib/python3.8/dist-packages (from google-auth<3.0.0dev,>=1.19.0->google-api-python-client) (0.2.8)\n",
            "Requirement already satisfied: pyasn1<0.5.0,>=0.4.6 in /usr/local/lib/python3.8/dist-packages (from pyasn1-modules>=0.2.1->google-auth<3.0.0dev,>=1.19.0->google-api-python-client) (0.4.8)\n",
            "Requirement already satisfied: urllib3<1.27,>=1.21.1 in /usr/local/lib/python3.8/dist-packages (from requests<3.0.0dev,>=2.18.0->google-api-core!=2.0.*,!=2.1.*,!=2.2.*,!=2.3.0,<3.0.0dev,>=1.31.5->google-api-python-client) (1.24.3)\n",
            "Requirement already satisfied: idna<3,>=2.5 in /usr/local/lib/python3.8/dist-packages (from requests<3.0.0dev,>=2.18.0->google-api-core!=2.0.*,!=2.1.*,!=2.2.*,!=2.3.0,<3.0.0dev,>=1.31.5->google-api-python-client) (2.10)\n",
            "Requirement already satisfied: certifi>=2017.4.17 in /usr/local/lib/python3.8/dist-packages (from requests<3.0.0dev,>=2.18.0->google-api-core!=2.0.*,!=2.1.*,!=2.2.*,!=2.3.0,<3.0.0dev,>=1.31.5->google-api-python-client) (2022.12.7)\n",
            "Requirement already satisfied: chardet<5,>=3.0.2 in /usr/local/lib/python3.8/dist-packages (from requests<3.0.0dev,>=2.18.0->google-api-core!=2.0.*,!=2.1.*,!=2.2.*,!=2.3.0,<3.0.0dev,>=1.31.5->google-api-python-client) (4.0.0)\n"
          ]
        }
      ],
      "source": [
        "!pip install google-api-python-client"
      ]
    },
    {
      "cell_type": "code",
      "source": [
        "import googleapiclient.discovery\n",
        "\n",
        "# Set the video ID and API key\n",
        "video_id = 'T2BPNSlEbqY'\n",
        "api_key = ''\n",
        "max_results=20\n",
        "\n",
        "# Create the YouTube API service\n",
        "service = googleapiclient.discovery.build('youtube', 'v3', developerKey=api_key)\n",
        "\n",
        "# Make the API request\n",
        "request = service.commentThreads().list(\n",
        "    part='snippet',\n",
        "    videoId=video_id,\n",
        "    textFormat='plainText',\n",
        "    maxResults=max_results,\n",
        ")\n",
        "response = request.execute()\n",
        "\n",
        "# Print the comments\n",
        "for item in response['items']:\n",
        "    comment = item['snippet']['topLevelComment']\n",
        "    author = comment['snippet']['authorDisplayName']\n",
        "    text = comment['snippet']['textDisplay']\n",
        "    print(f'{author}: {text}')\n"
      ],
      "metadata": {
        "colab": {
          "base_uri": "https://localhost:8080/"
        },
        "id": "syb0CRGj5uNa",
        "outputId": "906da956-c3e8-4569-db43-94026c2d883b"
      },
      "id": "syb0CRGj5uNa",
      "execution_count": null,
      "outputs": [
        {
          "output_type": "stream",
          "name": "stdout",
          "text": [
            "okon divine: Nice one, Excellent song\n",
            "sergius kimathi: The song makes me feel like crying \n",
            "The kid is amazing\n",
            "Benjamin Piso: Jermaine Edwards and this beautiful boy’s collab next.\n",
            "Carmen Velasquesaguilar: No me canso de escucharla,🥰\n",
            "TVSXXVC ยาดูด: เพราะทันที\n",
            "Xtramz Pratama: Enak kagak ngerusak iya\n",
            "Tamal: Beautiful remix !!!\n",
            "Tuwean Official: Dari fecboook\n",
            "Sven Kaestner: <3\n",
            "SP fancy: Good combination man ❤️‍🔥\n",
            "Mariz Mendoza: Wow this is amazing Dj Sean 😍💪\n",
            "David Rosales: I hope the kid gets rewarded in some outstanding way.\n",
            "rara bolang: This is the best\n",
            "SÎLÊÑT_G@MÊR: Nice song🎶🎶\n",
            "Moishi kipgen: Hope the singer will not be erased later\n",
            "Dz aux USA: I can't stop watching this video the boy humbled my heart\n",
            "G The Lone Wanderer: Yaa 👑💐🌹Allah 👑💐🌹\n",
            "🌹Yaa Rabb-ul-Aalmeen 🌹\n",
            " I thank You for sunshine \n",
            "Thank You for rain\n",
            "Thank You for joy\n",
            "Thank You for pain\n",
            "It's a beautiful day\n",
            "(Beautiful day)\n",
            "It's a beautiful day\n",
            "The adventures of squirrel and friends: Hands down the best version of this song!!\n",
            "Troy Jugueta: Thank you for pain😭😭\n",
            "eddierivera968: Yo thia song here is🔥🔥🔥🔥🔥🔥🔥love this song thank you god bless that kid this may my day,had to download it🙏🙏🙏🙏🙏\n"
          ]
        }
      ]
    },
    {
      "cell_type": "code",
      "source": [
        "#https://www.youtube.com/watch?v=T2BPNSlEbqY"
      ],
      "metadata": {
        "id": "vRTPQDL06XRH"
      },
      "id": "vRTPQDL06XRH",
      "execution_count": null,
      "outputs": []
    }
  ],
  "metadata": {
    "kernelspec": {
      "display_name": "Python 3 (ipykernel)",
      "language": "python",
      "name": "python3"
    },
    "language_info": {
      "codemirror_mode": {
        "name": "ipython",
        "version": 3
      },
      "file_extension": ".py",
      "mimetype": "text/x-python",
      "name": "python",
      "nbconvert_exporter": "python",
      "pygments_lexer": "ipython3",
      "version": "3.9.7"
    },
    "colab": {
      "provenance": []
    }
  },
  "nbformat": 4,
  "nbformat_minor": 5
}